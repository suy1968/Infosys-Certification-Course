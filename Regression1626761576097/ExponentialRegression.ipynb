{
 "cells": [
  {
   "cell_type": "code",
   "execution_count": 1,
   "metadata": {},
   "outputs": [],
   "source": [
    "import pandas as pd\n",
    "import numpy as np\n",
    "import seaborn as sns\n",
    "import matplotlib.pyplot as plt\n",
    "import scipy.stats as stats"
   ]
  },
  {
   "cell_type": "code",
   "execution_count": 2,
   "metadata": {},
   "outputs": [],
   "source": [
    "import warnings\n",
    "warnings.filterwarnings(\"ignore\")"
   ]
  },
  {
   "cell_type": "code",
   "execution_count": 3,
   "metadata": {},
   "outputs": [],
   "source": [
    "Tire_useability = pd.read_csv(\"datasets/Tire_useability.csv\")"
   ]
  },
  {
   "cell_type": "code",
   "execution_count": 4,
   "metadata": {},
   "outputs": [
    {
     "data": {
      "text/html": [
       "<div>\n",
       "<style scoped>\n",
       "    .dataframe tbody tr th:only-of-type {\n",
       "        vertical-align: middle;\n",
       "    }\n",
       "\n",
       "    .dataframe tbody tr th {\n",
       "        vertical-align: top;\n",
       "    }\n",
       "\n",
       "    .dataframe thead th {\n",
       "        text-align: right;\n",
       "    }\n",
       "</style>\n",
       "<table border=\"1\" class=\"dataframe\">\n",
       "  <thead>\n",
       "    <tr style=\"text-align: right;\">\n",
       "      <th></th>\n",
       "      <th>Miles_driven</th>\n",
       "      <th>Percentage_Useable</th>\n",
       "    </tr>\n",
       "  </thead>\n",
       "  <tbody>\n",
       "    <tr>\n",
       "      <th>0</th>\n",
       "      <td>1</td>\n",
       "      <td>98.2</td>\n",
       "    </tr>\n",
       "    <tr>\n",
       "      <th>1</th>\n",
       "      <td>2</td>\n",
       "      <td>91.7</td>\n",
       "    </tr>\n",
       "    <tr>\n",
       "      <th>2</th>\n",
       "      <td>5</td>\n",
       "      <td>81.3</td>\n",
       "    </tr>\n",
       "    <tr>\n",
       "      <th>3</th>\n",
       "      <td>10</td>\n",
       "      <td>64.0</td>\n",
       "    </tr>\n",
       "    <tr>\n",
       "      <th>4</th>\n",
       "      <td>20</td>\n",
       "      <td>36.4</td>\n",
       "    </tr>\n",
       "  </tbody>\n",
       "</table>\n",
       "</div>"
      ],
      "text/plain": [
       "   Miles_driven  Percentage_Useable\n",
       "0             1                98.2\n",
       "1             2                91.7\n",
       "2             5                81.3\n",
       "3            10                64.0\n",
       "4            20                36.4"
      ]
     },
     "execution_count": 4,
     "metadata": {},
     "output_type": "execute_result"
    }
   ],
   "source": [
    "Tire_useability.head()"
   ]
  },
  {
   "cell_type": "code",
   "execution_count": 5,
   "metadata": {},
   "outputs": [
    {
     "data": {
      "text/plain": [
       "Text(0, 0.5, 'Percentage Useable')"
      ]
     },
     "execution_count": 5,
     "metadata": {},
     "output_type": "execute_result"
    },
    {
     "data": {
      "image/png": "[encoded data removed]",
      "text/plain": [
       "<Figure size 864x504 with 1 Axes>"
      ]
     },
     "metadata": {
      "needs_background": "light"
     },
     "output_type": "display_data"
    }
   ],
   "source": [
    "plt.figure(figsize=(12,7))\n",
    "plt.scatter(x = \"Miles_driven\", y = \"Percentage_Useable\", data = Tire_useability)\n",
    "plt.title(\"Scatter plot of Miles driven vs. Percentage Useable\")\n",
    "plt.xlabel(\"Miles driven\")\n",
    "plt.ylabel(\"Percentage Useable\")"
   ]
  },
  {
   "cell_type": "code",
   "execution_count": 6,
   "metadata": {},
   "outputs": [
    {
     "data": {
      "text/plain": [
       "Text(0, 0.5, 'Log of Percentage Useable')"
      ]
     },
     "execution_count": 6,
     "metadata": {},
     "output_type": "execute_result"
    },
    {
     "data": {
      "image/png": "[encoded data removed]",
      "text/plain": [
       "<Figure size 864x504 with 1 Axes>"
      ]
     },
     "metadata": {
      "needs_background": "light"
     },
     "output_type": "display_data"
    }
   ],
   "source": [
    "plt.figure(figsize=(12,7))\n",
    "plt.scatter(x = Tire_useability[\"Miles_driven\"], y = np.log(Tire_useability[\"Percentage_Useable\"]))\n",
    "plt.title(\"Scatter plot of Miles driven vs. Log of Percentage Useable\")\n",
    "plt.xlabel(\"Miles driven\")\n",
    "plt.ylabel(\"Log of Percentage Useable\")"
   ]
  },
  {
   "cell_type": "code",
   "execution_count": 7,
   "metadata": {},
   "outputs": [],
   "source": [
    "import statsmodels.formula.api as smf\n",
    "exp_model = smf.ols(formula='np.log(Percentage_Useable) ~ Miles_driven ',\n",
    "                    data = Tire_useability).fit()"
   ]
  },
  {
   "cell_type": "code",
   "execution_count": 8,
   "metadata": {},
   "outputs": [
    {
     "data": {
      "text/html": [
       "<table class=\"simpletable\">\n",
       "<caption>OLS Regression Results</caption>\n",
       "<tr>\n",
       "  <th>Dep. Variable:</th>    <td>np.log(Percentage_Useable)</td> <th>  R-squared:         </th> <td>   0.988</td>\n",
       "</tr>\n",
       "<tr>\n",
       "  <th>Model:</th>                        <td>OLS</td>            <th>  Adj. R-squared:    </th> <td>   0.986</td>\n",
       "</tr>\n",
       "<tr>\n",
       "  <th>Method:</th>                  <td>Least Squares</td>       <th>  F-statistic:       </th> <td>   492.0</td>\n",
       "</tr>\n",
       "<tr>\n",
       "  <th>Date:</th>                  <td>Tue, 02 Feb 2021</td>      <th>  Prob (F-statistic):</th> <td>5.49e-07</td>\n",
       "</tr>\n",
       "<tr>\n",
       "  <th>Time:</th>                      <td>08:54:28</td>          <th>  Log-Likelihood:    </th> <td>  8.5732</td>\n",
       "</tr>\n",
       "<tr>\n",
       "  <th>No. Observations:</th>           <td>     8</td>           <th>  AIC:               </th> <td>  -13.15</td>\n",
       "</tr>\n",
       "<tr>\n",
       "  <th>Df Residuals:</th>               <td>     6</td>           <th>  BIC:               </th> <td>  -12.99</td>\n",
       "</tr>\n",
       "<tr>\n",
       "  <th>Df Model:</th>                   <td>     1</td>           <th>                     </th>     <td> </td>   \n",
       "</tr>\n",
       "<tr>\n",
       "  <th>Covariance Type:</th>           <td>nonrobust</td>         <th>                     </th>     <td> </td>   \n",
       "</tr>\n",
       "</table>\n",
       "<table class=\"simpletable\">\n",
       "<tr>\n",
       "        <td></td>          <th>coef</th>     <th>std err</th>      <th>t</th>      <th>P>|t|</th>  <th>[0.025</th>    <th>0.975]</th>  \n",
       "</tr>\n",
       "<tr>\n",
       "  <th>Intercept</th>    <td>    4.6046</td> <td>    0.051</td> <td>   89.850</td> <td> 0.000</td> <td>    4.479</td> <td>    4.730</td>\n",
       "</tr>\n",
       "<tr>\n",
       "  <th>Miles_driven</th> <td>   -0.0432</td> <td>    0.002</td> <td>  -22.182</td> <td> 0.000</td> <td>   -0.048</td> <td>   -0.038</td>\n",
       "</tr>\n",
       "</table>\n",
       "<table class=\"simpletable\">\n",
       "<tr>\n",
       "  <th>Omnibus:</th>       <td> 3.910</td> <th>  Durbin-Watson:     </th> <td>   3.060</td>\n",
       "</tr>\n",
       "<tr>\n",
       "  <th>Prob(Omnibus):</th> <td> 0.142</td> <th>  Jarque-Bera (JB):  </th> <td>   0.581</td>\n",
       "</tr>\n",
       "<tr>\n",
       "  <th>Skew:</th>          <td> 0.533</td> <th>  Prob(JB):          </th> <td>   0.748</td>\n",
       "</tr>\n",
       "<tr>\n",
       "  <th>Kurtosis:</th>      <td> 3.779</td> <th>  Cond. No.          </th> <td>    39.9</td>\n",
       "</tr>\n",
       "</table><br/><br/>Notes:<br/>[1] Standard Errors assume that the covariance matrix of the errors is correctly specified."
      ],
      "text/plain": [
       "<class 'statsmodels.iolib.summary.Summary'>\n",
       "\"\"\"\n",
       "                                OLS Regression Results                                \n",
       "======================================================================================\n",
       "Dep. Variable:     np.log(Percentage_Useable)   R-squared:                       0.988\n",
       "Model:                                    OLS   Adj. R-squared:                  0.986\n",
       "Method:                         Least Squares   F-statistic:                     492.0\n",
       "Date:                        Tue, 02 Feb 2021   Prob (F-statistic):           5.49e-07\n",
       "Time:                                08:54:28   Log-Likelihood:                 8.5732\n",
       "No. Observations:                           8   AIC:                            -13.15\n",
       "Df Residuals:                               6   BIC:                            -12.99\n",
       "Df Model:                                   1                                         \n",
       "Covariance Type:                    nonrobust                                         \n",
       "================================================================================\n",
       "                   coef    std err          t      P>|t|      [0.025      0.975]\n",
       "--------------------------------------------------------------------------------\n",
       "Intercept        4.6046      0.051     89.850      0.000       4.479       4.730\n",
       "Miles_driven    -0.0432      0.002    -22.182      0.000      -0.048      -0.038\n",
       "==============================================================================\n",
       "Omnibus:                        3.910   Durbin-Watson:                   3.060\n",
       "Prob(Omnibus):                  0.142   Jarque-Bera (JB):                0.581\n",
       "Skew:                           0.533   Prob(JB):                        0.748\n",
       "Kurtosis:                       3.779   Cond. No.                         39.9\n",
       "==============================================================================\n",
       "\n",
       "Notes:\n",
       "[1] Standard Errors assume that the covariance matrix of the errors is correctly specified.\n",
       "\"\"\""
      ]
     },
     "execution_count": 8,
     "metadata": {},
     "output_type": "execute_result"
    }
   ],
   "source": [
    "exp_model.summary()"
   ]
  },
  {
   "cell_type": "code",
   "execution_count": 9,
   "metadata": {},
   "outputs": [],
   "source": [
    "predictions = exp_model.predict(Tire_useability[[\"Miles_driven\"]])"
   ]
  },
  {
   "cell_type": "code",
   "execution_count": 11,
   "metadata": {},
   "outputs": [
    {
     "data": {
      "text/plain": [
       "Text(0, 0.5, 'Percentage Useable')"
      ]
     },
     "execution_count": 11,
     "metadata": {},
     "output_type": "execute_result"
    },
    {
     "data": {
      "image/png": "[encoded data removed]",
      "text/plain": [
       "<Figure size 864x504 with 1 Axes>"
      ]
     },
     "metadata": {
      "needs_background": "light"
     },
     "output_type": "display_data"
    }
   ],
   "source": [
    "plt.figure(figsize=(12,7))\n",
    "plt.scatter(x = \"Miles_driven\", y = \"Percentage_Useable\",data = Tire_useability)\n",
    "plt.plot(Tire_useability[\"Miles_driven\"],np.exp(predictions),'r')\n",
    "plt.title(\"Scatter plot of Miles driven vs. Percentage Useable\")\n",
    "plt.xlabel(\"Miles driven\")\n",
    "plt.ylabel(\"Percentage Useable\")"
   ]
  },
  {
   "cell_type": "code",
   "execution_count": null,
   "metadata": {},
   "outputs": [],
   "source": []
  }
 ],
 "metadata": {
  "kernelspec": {
   "display_name": "Python 3",
   "language": "python",
   "name": "python3"
  },
  "language_info": {
   "codemirror_mode": {
    "name": "ipython",
    "version": 3
   },
   "file_extension": ".py",
   "mimetype": "text/x-python",
   "name": "python",
   "nbconvert_exporter": "python",
   "pygments_lexer": "ipython3",
   "version": "3.7.7"
  }
 },
 "nbformat": 4,
 "nbformat_minor": 2
}
